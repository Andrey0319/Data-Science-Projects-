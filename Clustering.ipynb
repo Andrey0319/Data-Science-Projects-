{
 "cells": [
  {
   "cell_type": "code",
   "execution_count": 5,
   "metadata": {},
   "outputs": [
    {
     "name": "stdout",
     "output_type": "stream",
     "text": [
      "Populating the interactive namespace from numpy and matplotlib\n"
     ]
    }
   ],
   "source": [
    "import re\n",
    "import time\n",
    "import pandas as pd\n",
    "import pylab as pl\n",
    "import numpy as np\n",
    "import scipy.spatial as ss\n",
    "from scipy.cluster import hierarchy\n",
    "from scipy.spatial.distance import pdist\n",
    "import sklearn.cluster as sc\n",
    "import sklearn.manifold as sm\n",
    "import sklearn.datasets as ds\n",
    "import sklearn.metrics as smt\n",
    "from sklearn.mixture import GaussianMixture\n",
    "from sklearn.cluster import AgglomerativeClustering\n",
    "from sklearn.feature_extraction.text import TfidfVectorizer\n",
    "\n",
    "import matplotlib.pyplot as plt\n",
    "from sklearn.base import BaseEstimator, ClusterMixin\n",
    "\n",
    "%matplotlib inline\n",
    "\n",
    "plt.style.use('ggplot')\n",
    "plt.rcParams['figure.figsize'] = (12,5)\n",
    "\n",
    "# Plotting config\n",
    "%pylab inline"
   ]
  },
  {
   "cell_type": "code",
   "execution_count": 6,
   "metadata": {},
   "outputs": [],
   "source": [
    "\n",
    "\n",
    "\n",
    "class Clustering(BaseEstimator, ClusterMixin):\n",
    "    \"\"\"\n",
    "    Implement clustering algorithm according \n",
    "    \"\"\"\n",
    "    def __init__(self, metric, linkage='single', n_clasters=2, **kwargs):\n",
    "        \"\"\"\n",
    "        metric - string with name of metric, for example, euclidean\n",
    "        Please add necessary algoritm parameters to class constructor.\n",
    "        \"\"\"\n",
    "        self.n_clasters = n_clasters\n",
    "        self.linkage = linkage\n",
    "        self.ind = 0\n",
    "        self.dendenogram_info = np.array([])\n",
    "        self.max_number_of_classes = 0\n",
    "        \n",
    "        if metric == 'euclidian':\n",
    "            self.distance = self.__euclidian_distance\n",
    "        elif metric == 'cosine':\n",
    "            self.distance = self.__cosine_distance\n",
    "        elif metric == 'words':\n",
    "            self.distance = self.__words_distance\n",
    "        else:\n",
    "            self.distance = self.__euclidian_distance\n",
    "            \n",
    "        if linkage == 'single':\n",
    "            self.calculating_coefficients = self.__single_coefficients\n",
    "        elif linkage == 'complete':\n",
    "            self.calculating_coefficients = self.__complete_coefficients\n",
    "        elif linkage == 'average':\n",
    "            self.calculating_coefficients = self.__average_coefficients\n",
    "        else:\n",
    "            print(\"Error: Incorrect linkage name\")\n",
    "            self.calculating_coefficients = self.__single_coefficients\n",
    "            \n",
    "        pass\n",
    "    \n",
    "    def __euclidian_distance(self, a, b):\n",
    "        a = np.array(a)\n",
    "        b = np.array(b)\n",
    "        return np.sqrt(np.sum((a - b) ** 2))\n",
    "\n",
    "    def __cosine_distance(self, a, b):\n",
    "        a = np.array(a)\n",
    "        b = np.array(b)\n",
    "        t = np.dot(a, b)\n",
    "        p = sqrt((a ** 2).sum()) * sqrt((b ** 2).sum())\n",
    "        if t / p > 1:\n",
    "            return 0\n",
    "        return np.arccos(t / p)\n",
    "\n",
    "    def __words_distance(self, a, b):\n",
    "        return 1 - len(Counter(a) & Counter(b)) / len(Counter(a) | Counter(b))\n",
    "    \n",
    "    def update_tree(self, tree, pos_i, pos_j):\n",
    "        self.max_number_of_classes += 1\n",
    "        mas = np.zeros(len(tree))\n",
    "        for i in range(len(tree)):\n",
    "            mas[i] = tree[i]\n",
    "            if tree[i] in [tree[int(pos_j)], tree[int(pos_i)]]:\n",
    "                mas[i] = self.max_number_of_classes\n",
    "        return mas\n",
    "    \n",
    "    def __single_coefficients(self, tree, x, y):\n",
    "        return [1/2, 1/2, -1/2]\n",
    "    \n",
    "    def __complete_coefficients(self, tree, x, y):\n",
    "        return [1/2, 1/2, 1/2] \n",
    "    \n",
    "    def __average_coefficients(self, tree, x, y):\n",
    "        c = [0, 0, 0]\n",
    "        for i in tree:\n",
    "                if i == tree[x]:\n",
    "                    c[0] += 1\n",
    "                if i == tree[y]:\n",
    "                    c[1] += 1\n",
    "        c[2] = c[0] + c[1]\n",
    "        c[0] = c[0] / c[2]\n",
    "        c[1] = c[1] / c[2]\n",
    "        c[2] = 0\n",
    "        return c\n",
    "    \n",
    "    def update_matrix(self, matrix_of_distances, tree, x, y):\n",
    "        coefficient = [0, 0, 0]\n",
    "        x = int(x)\n",
    "        y = int(y)\n",
    "        tree_x = np.array(matrix_of_distances[x])\n",
    "        tree_y = np.array(matrix_of_distances[y])\n",
    "        k = len(matrix_of_distances)\n",
    "        coefficient = self.calculating_coefficients(tree, x, y)\n",
    "        for i in range(k):\n",
    "            if tree[i] in [tree[x], tree[y]]:\n",
    "                for j in range(k):\n",
    "                    tmp = coefficient[0] * tree_x[j] + coefficient[1] * tree_y[j] + coefficient[2] * abs(tree_x[j] - tree_y[j])\n",
    "                    matrix_of_distances[i][j] = tmp\n",
    "                    matrix_of_distances[j][i] = tmp\n",
    "        return matrix_of_distances\n",
    "    \n",
    "    def search_minimum(self, matrix_of_distances, tree):\n",
    "        k = len(matrix_of_distances)\n",
    "        min_ = np.array([0, 0, -1])\n",
    "        for i in range(k):\n",
    "            for j in range(i + 1, k):\n",
    "                if (min_[2] > matrix_of_distances[i][j] or min_[2] == -1) and tree[i] != tree[j]:\n",
    "                    min_ = np.array([i, j, matrix_of_distances[i][j]])\n",
    "        return min_\n",
    "    \n",
    "    def number_repr(self, tree, claster):\n",
    "        number_repr = 0\n",
    "        for i in tree:\n",
    "            if i == claster:\n",
    "                number_repr += 1\n",
    "        return number_repr\n",
    "    \n",
    "    def build_tree(self, x):\n",
    "        k = len(x)\n",
    "        self.max_number_of_classes = k - 1\n",
    "        tree = np.arange(0, k ** 2).reshape(k, k)\n",
    "        \n",
    "        matrix_of_distances = np.zeros((k, k))\n",
    "        for i in range(k):\n",
    "            for j in range(k):\n",
    "                matrix_of_distances[i][j] = self.distance(x[i], x[j])\n",
    "                matrix_of_distances[j][i] = matrix_of_distances[i][j]\n",
    "                \n",
    "        for i in range(1, k):\n",
    "            minimum = self.search_minimum(matrix_of_distances, tree[i - 1])\n",
    "            prev_x = tree[i - 1][int(minimum[0])]\n",
    "            prev_y = tree[i - 1][int(minimum[1])]\n",
    "            tree[i] = self.update_tree(tree[i - 1], minimum[0], minimum[1])\n",
    "            matrix_of_distances = self.update_matrix(matrix_of_distances, tree[i - 1], minimum[0], minimum[1])\n",
    "            minimum = np.append(minimum, self.number_repr(tree[i], tree[i][int(minimum[0])]))\n",
    "            minimum[0] = prev_x\n",
    "            minimum[1] = prev_y\n",
    "            self.dendenogram_info = np.append(self.dendenogram_info, minimum)\n",
    "\n",
    "        self.dendenogram_info = self.dendenogram_info.reshape(-1, 4)\n",
    "        self.tree = tree\n",
    "        return tree[k - self.n_clasters]\n",
    "    \n",
    "    def fit_predict(self, x):\n",
    "        \"\"\"\n",
    "        Use data matrix x to compute model parameters and predict clusters\n",
    "        \"\"\"\n",
    "        return self.build_tree(x)\n",
    "    \n",
    "    def cut_tree(self, height):\n",
    "        i = 0\n",
    "        while (i < len(self.dendenogram_info)) and (self.dendenogram_info[i][2] < height):\n",
    "            i += 1\n",
    "        return self.tree[i]\n",
    "    \n",
    "    def plot_dendrogram(self):\n",
    "        \"\"\"\n",
    "        Try to visualize our data\n",
    "        \"\"\"\n",
    "        fig = plt.figure()\n",
    "        ax = fig.add_subplot(111)\n",
    "        fig.set_figheight(10)\n",
    "        fig.set_figwidth(20)\n",
    "        hierarchy.dendrogram(self.dendenogram_info)\n",
    "        pass"
   ]
  },
  {
   "cell_type": "markdown",
   "metadata": {},
   "source": [
    "# Test\n"
   ]
  },
  {
   "cell_type": "code",
   "execution_count": 7,
   "metadata": {},
   "outputs": [],
   "source": [
    "iris = ds.load_iris()\n",
    "x_iris = iris.data[:100]\n",
    "y_iris = iris.target[:100]"
   ]
  },
  {
   "cell_type": "code",
   "execution_count": 8,
   "metadata": {},
   "outputs": [
    {
     "data": {
      "text/plain": [
       "<Figure size 720x360 with 0 Axes>"
      ]
     },
     "metadata": {},
     "output_type": "display_data"
    },
    {
     "data": {
      "image/png": "[encoded data removed]",
      "text/plain": [
       "<Figure size 1440x720 with 1 Axes>"
      ]
     },
     "metadata": {
      "needs_background": "light"
     },
     "output_type": "display_data"
    }
   ],
   "source": [
    "pl.figure(figsize=(10, 5))\n",
    "myclf = Clustering('cosine', 'single', 2)\n",
    "t = myclf.fit_predict(x_iris)\n",
    "myclf.plot_dendrogram()\n",
    "plt.show()"
   ]
  },
  {
   "cell_type": "code",
   "execution_count": 9,
   "metadata": {},
   "outputs": [
    {
     "data": {
      "text/plain": [
       "<Figure size 720x360 with 0 Axes>"
      ]
     },
     "metadata": {},
     "output_type": "display_data"
    },
    {
     "data": {
      "image/png": "[encoded data removed]",
      "text/plain": [
       "<Figure size 1440x720 with 1 Axes>"
      ]
     },
     "metadata": {
      "needs_background": "light"
     },
     "output_type": "display_data"
    }
   ],
   "source": [
    "pl.figure(figsize=(10, 5))\n",
    "myclf = Clustering('cosine', 'complete', 2)\n",
    "t = myclf.fit_predict(x_iris)\n",
    "t.shape\n",
    "myclf.plot_dendrogram()\n",
    "plt.show()"
   ]
  },
  {
   "cell_type": "code",
   "execution_count": 11,
   "metadata": {},
   "outputs": [
    {
     "name": "stdout",
     "output_type": "stream",
     "text": [
      "Our AGGL score 1.0. Our AGGL time 0.6981785297393799\n"
     ]
    }
   ],
   "source": [
    "сustum_aggl = Clustering(metric='euclidian')\n",
    "aggl_t0 = time.time()\n",
    "aggl_pred = сustum_aggl.fit_predict(x_iris)\n",
    "aggl_diff = time.time() - aggl_t0\n",
    "aggl_score = smt.adjusted_rand_score(y_iris, aggl_pred)\n",
    "print (\"Our AGGL score {}. Our AGGL time {}\".format(aggl_score, aggl_diff))"
   ]
  },
  {
   "cell_type": "code",
   "execution_count": null,
   "metadata": {},
   "outputs": [],
   "source": []
  }
 ],
 "metadata": {
  "kernelspec": {
   "display_name": "Python 3",
   "language": "python",
   "name": "python3"
  },
  "language_info": {
   "codemirror_mode": {
    "name": "ipython",
    "version": 3
   },
   "file_extension": ".py",
   "mimetype": "text/x-python",
   "name": "python",
   "nbconvert_exporter": "python",
   "pygments_lexer": "ipython3",
   "version": "3.7.4"
  }
 },
 "nbformat": 4,
 "nbformat_minor": 2
}
